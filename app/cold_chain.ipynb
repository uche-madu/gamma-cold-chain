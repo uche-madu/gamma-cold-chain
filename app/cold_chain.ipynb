{
 "cells": [
  {
   "cell_type": "code",
   "execution_count": 2,
   "metadata": {},
   "outputs": [],
   "source": [
    "import pandas as pd\n",
    "from langchain_core.prompts import PromptTemplate\n",
    "from langchain_core.output_parsers import JsonOutputParser\n",
    "from langchain_core.runnables import RunnableLambda, RunnableParallel\n",
    "from dotenv import load_dotenv, find_dotenv\n",
    "from langchain_together import ChatTogether\n",
    "from pydantic import BaseModel, Field\n",
    "import smtplib\n",
    "from email.message import EmailMessage\n",
    "import ssl\n",
    "from twilio.rest import Client\n",
    "from twilio.twiml.voice_response import VoiceResponse\n",
    "from decouple import config\n",
    "\n"
   ]
  },
  {
   "cell_type": "code",
   "execution_count": 3,
   "metadata": {},
   "outputs": [
    {
     "data": {
      "text/plain": [
       "True"
      ]
     },
     "execution_count": 3,
     "metadata": {},
     "output_type": "execute_result"
    }
   ],
   "source": [
    "load_dotenv(find_dotenv())"
   ]
  },
  {
   "cell_type": "code",
   "execution_count": 4,
   "metadata": {},
   "outputs": [],
   "source": [
    "def make_phone_call(recipient_phone, call_script, twilio_number, account_sid, auth_token):\n",
    "    \"\"\"\n",
    "    Makes a phone call to the recipient and speaks the script using Twilio.\n",
    "    \n",
    "    Parameters:\n",
    "        recipent_phone (str): Recipient's phone number in E.164 format (e.g., \"+1234567890\").\n",
    "        call_script (str): The text to be spoken during the call.\n",
    "        twilio_number (str): Your Twilio phone number (E.164 format).\n",
    "        account_sid (str): Twilio account SID.\n",
    "        auth_token (str): Twilio authentication token.\n",
    "    \"\"\"\n",
    "    # Initialize Twilio client\n",
    "    client = Client(account_sid, auth_token)\n",
    "    \n",
    "    # Create TwiML (Telephony Markup Language) to define the call behavior\n",
    "    twiml_response = VoiceResponse()\n",
    "    twiml_response.say(call_script, voice='alice')  # 'alice' is a natural-sounding voice\n",
    "    \n",
    "    try:\n",
    "        # Initiate the call\n",
    "        call = client.calls.create(\n",
    "            twiml=twiml_response.to_xml(),\n",
    "            from_=twilio_number,\n",
    "            to=recipient_phone\n",
    "        )\n",
    "        print(f\"Call initiated! Call SID: {call.sid}\")\n",
    "    except Exception as e:\n",
    "        print(f\"Failed to make call: {e}\")"
   ]
  },
  {
   "cell_type": "code",
   "execution_count": 5,
   "metadata": {},
   "outputs": [],
   "source": [
    "ACCOUNT_SID = config(\"TWILIO_ACCOUNT_SID\")\n",
    "AUTH_TOKEN = config(\"TWILIO_AUTH_TOKEN\")\n",
    "TWILIO_NUMBER = config(\"TWILIO_PHONE_NUMBER\")\n",
    "RECIPIENT_NUMBER = config(\"TWILIO_VERIFIED_PHONE_NUMBER\")\n",
    "EMAIL_PASSWORD = config(\"MAIL_PASSWORD\")"
   ]
  },
  {
   "cell_type": "code",
   "execution_count": 6,
   "metadata": {},
   "outputs": [
    {
     "name": "stdout",
     "output_type": "stream",
     "text": [
      "Failed to make call: HTTP 400 error: Unable to create record: The number +2348067365519 is unverified. Trial accounts may only make calls to verified numbers.\n"
     ]
    }
   ],
   "source": [
    "# Call the function\n",
    "make_phone_call(\n",
    "    recipient_phone=RECIPIENT_NUMBER,\n",
    "    call_script=\"Hello! This is an automated call. Thank you for testing our service.\",\n",
    "    twilio_number=TWILIO_NUMBER,\n",
    "    account_sid=ACCOUNT_SID,\n",
    "    auth_token=AUTH_TOKEN\n",
    ")"
   ]
  },
  {
   "cell_type": "code",
   "execution_count": 6,
   "metadata": {},
   "outputs": [
    {
     "name": "stdout",
     "output_type": "stream",
     "text": [
      "<?xml version=\"1.0\" encoding=\"UTF-8\"?><Response><Say>Hello!</Say></Response>\n"
     ]
    }
   ],
   "source": [
    "from twilio.twiml.voice_response import VoiceResponse, Say\n",
    "\n",
    "response = VoiceResponse()\n",
    "response.say('Hello!')\n",
    "\n",
    "print(response)"
   ]
  },
  {
   "cell_type": "code",
   "execution_count": 15,
   "metadata": {},
   "outputs": [],
   "source": [
    "\n",
    "\n",
    "def send_email(subject, recipient, body, sender_email, sender_password):\n",
    "    \"\"\"\n",
    "    Sends an email using the provided details and SMTP server (e.g., Gmail).\n",
    "    \n",
    "    Parameters:\n",
    "    - subject (str): Email subject\n",
    "    - recipient (str): Recipient email address\n",
    "    - body (str): Email body content\n",
    "    - sender_email (str): Sender's email address (requires SMTP access)\n",
    "    - sender_password (str): Sender's email password or app-specific password\n",
    "    \"\"\"\n",
    "    # Create the email message\n",
    "    msg = EmailMessage()\n",
    "    msg.set_content(body)\n",
    "    msg['Subject'] = subject\n",
    "    msg['From'] = sender_email\n",
    "    msg['To'] = recipient\n",
    "\n",
    "    # Set up SSL context and SMTP server\n",
    "    context = ssl.create_default_context()\n",
    "    \n",
    "    try:\n",
    "        with smtplib.SMTP_SSL('smtp.gmail.com', 465, context=context) as server:\n",
    "            server.login(sender_email, sender_password)\n",
    "            server.send_message(msg)\n",
    "        print(\"Email sent successfully!\")\n",
    "    except Exception as e:\n",
    "        print(f\"Failed to send email: {e}\")\n",
    "\n"
   ]
  },
  {
   "cell_type": "code",
   "execution_count": 16,
   "metadata": {},
   "outputs": [
    {
     "name": "stdout",
     "output_type": "stream",
     "text": [
      "Email sent successfully!\n"
     ]
    }
   ],
   "source": [
    "send_email(\n",
    "    subject=\"Hello from Python!\",\n",
    "    recipient=\"dreemer6@yahoo.com\",\n",
    "    body=\"This is a test email sent using Python.\",\n",
    "    sender_email=\"dreemer6.um@gmail.com\",\n",
    "    sender_password=EMAIL_PASSWORD\n",
    ")"
   ]
  },
  {
   "cell_type": "code",
   "execution_count": 17,
   "metadata": {},
   "outputs": [],
   "source": [
    "def read_file(file_path):\n",
    "    \"\"\"\n",
    "    Reads a JSON, Excel, CSV, Parquet, Feather, or TSV file into a Pandas DataFrame.\n",
    "    \n",
    "    Parameters:\n",
    "        file_path (str): Path to the file.\n",
    "    \n",
    "    Returns:\n",
    "        pd.DataFrame: DataFrame containing the file data.\n",
    "    \"\"\"\n",
    "    try:\n",
    "        if file_path.endswith(\".csv\"):\n",
    "            return pd.read_csv(file_path)\n",
    "        elif file_path.endswith(\".json\"):\n",
    "            return pd.read_json(file_path)\n",
    "        elif file_path.endswith(\".xlsx\") or file_path.endswith(\".xls\"):\n",
    "            return pd.read_excel(file_path)\n",
    "        elif file_path.endswith(\".parquet\"):\n",
    "            return pd.read_parquet(file_path)\n",
    "        elif file_path.endswith(\".feather\"):\n",
    "            return pd.read_feather(file_path)\n",
    "        elif file_path.endswith(\".tsv\"):\n",
    "            return pd.read_csv(file_path, sep=\"\\t\")\n",
    "        else:\n",
    "            raise ValueError(\"Unsupported file format. Please use JSON, Excel, CSV, Parquet, Feather, or TSV.\")\n",
    "    except Exception as e:\n",
    "        print(f\"Error reading file: {e}\")\n",
    "        return None"
   ]
  },
  {
   "cell_type": "code",
   "execution_count": 18,
   "metadata": {},
   "outputs": [],
   "source": [
    "def get_company_info(file_path):\n",
    "    \"\"\"\n",
    "    Extracts company-related information from the given file.\n",
    "    \n",
    "    Parameters:\n",
    "        file_path (str): Path to the file.\n",
    "    \n",
    "    Returns:\n",
    "        tuple: Data for Company Names, Fields, Email, Phone, Preferred Channel, Objections, Engagement Level, and Notes.\n",
    "    \"\"\"\n",
    "    df = read_file(file_path)\n",
    "    if df is None:\n",
    "        return None\n",
    "    \n",
    "    required_columns = [\n",
    "        \"Company_Names\", \"Company_Fields\", \"Email_Address\", \"Phone_Number\", \n",
    "        \"Preferred_Channel\", \"Objections\", \"Engagement_Level\", \"Company_Notes\"\n",
    "    ]\n",
    "    \n",
    "    missing_cols = [col for col in required_columns if col not in df.columns]\n",
    "    \n",
    "    if missing_cols:\n",
    "        print(f\"Error: Missing columns {missing_cols}.\")\n",
    "        print(\"Ensure all required columns are present in the file.\")\n",
    "        return None\n",
    "    \n",
    "    return (\n",
    "        df[\"Company_Names\"].values, df[\"Company_Fields\"].values, df[\"Email_Address\"].values, df[\"Phone_Number\"].values, \n",
    "        df[\"Preferred_Channel\"].values, df[\"Objections\"].values, df[\"Engagement_Level\"].values, df[\"Company_Notes\"].values\n",
    "    )"
   ]
  },
  {
   "cell_type": "code",
   "execution_count": 19,
   "metadata": {},
   "outputs": [
    {
     "data": {
      "text/plain": [
       "(array(['Tech Corp', 'Green Energy', 'MediCare', 'EduWorld'], dtype=object),\n",
       " array(['Software', 'Renewable Energy', 'Healthcare', 'Education'],\n",
       "       dtype=object),\n",
       " array(['contact@techcorp.com', 'info@greenenergy.com',\n",
       "        'support@medicare.com', 'hello@eduworld.com'], dtype=object),\n",
       " array(['123-456-7890', '987-654-3210', '555-666-7777', '444-333-2222'],\n",
       "       dtype=object),\n",
       " array(['email', 'phone', 'email', 'phone'], dtype=object),\n",
       " array([nan, 'Price concerns', nan, 'Service issues'], dtype=object),\n",
       " array(['High', 'Medium', 'Low', 'High'], dtype=object),\n",
       " array(['Leading software company', 'Expanding solar solutions',\n",
       "        'Well-known in medical field', 'Provides online courses'],\n",
       "       dtype=object))"
      ]
     },
     "execution_count": 19,
     "metadata": {},
     "output_type": "execute_result"
    }
   ],
   "source": [
    "get_company_info('names_and_fields.csv')"
   ]
  },
  {
   "cell_type": "code",
   "execution_count": 47,
   "metadata": {},
   "outputs": [],
   "source": [
    "llm = ChatTogether(\n",
    "    model=\"meta-llama/Llama-3-70b-chat-hf\",\n",
    "    temperature=0,\n",
    "    max_tokens=None,\n",
    "    timeout=None,\n",
    "    max_retries=2,\n",
    ")\n"
   ]
  },
  {
   "cell_type": "code",
   "execution_count": 48,
   "metadata": {},
   "outputs": [],
   "source": [
    "class EmailAdvise(BaseModel):\n",
    "    recipient_email: str = Field(description=\"The **email address of the recipient** (as provided in the input).\")\n",
    "    recipient_phone: str = Field(description=\"The **phone number of the recipient** (as provided in the input)\")\n",
    "    subject: str = Field(description=\"A compelling **email subject line** that grabs attention and encourages the recipient to open the email. \")\n",
    "    email: str = Field(description=\"A cold email personalized based on the industry, engagement level, and objections.\")\n",
    "    call_script: str = Field(description=\"A structured cold call script for sales representatives to use.\")\n",
    "    advise: str = Field(description=\"A strategy to further engage the client based on their industry and previous response.\")"
   ]
  },
  {
   "cell_type": "code",
   "execution_count": 49,
   "metadata": {},
   "outputs": [],
   "source": [
    "parser = JsonOutputParser(pydantic_object=EmailAdvise)"
   ]
  },
  {
   "cell_type": "code",
   "execution_count": 53,
   "metadata": {},
   "outputs": [
    {
     "data": {
      "text/plain": [
       "'The output should be formatted as a JSON instance that conforms to the JSON schema below.\\n\\nAs an example, for the schema {\"properties\": {\"foo\": {\"title\": \"Foo\", \"description\": \"a list of strings\", \"type\": \"array\", \"items\": {\"type\": \"string\"}}}, \"required\": [\"foo\"]}\\nthe object {\"foo\": [\"bar\", \"baz\"]} is a well-formatted instance of the schema. The object {\"properties\": {\"foo\": [\"bar\", \"baz\"]}} is not well-formatted.\\n\\nHere is the output schema:\\n```\\n{\"properties\": {\"recipient_email\": {\"description\": \"The **email address of the recipient** (as provided in the input).\", \"title\": \"Recipient Email\", \"type\": \"string\"}, \"recipient_phone\": {\"description\": \"The **phone number of the recipient** (as provided in the input)\", \"title\": \"Recipient Phone\", \"type\": \"string\"}, \"subject\": {\"description\": \"A compelling **email subject line** that grabs attention and encourages the recipient to open the email. \", \"title\": \"Subject\", \"type\": \"string\"}, \"email\": {\"description\": \"A cold email personalized based on the industry, engagement level, and objections.\", \"title\": \"Email\", \"type\": \"string\"}, \"call_script\": {\"description\": \"A structured cold call script for sales representatives to use.\", \"title\": \"Call Script\", \"type\": \"string\"}, \"advise\": {\"description\": \"A strategy to further engage the client based on their industry and previous response.\", \"title\": \"Advise\", \"type\": \"string\"}}, \"required\": [\"recipient_email\", \"recipient_phone\", \"subject\", \"email\", \"call_script\", \"advise\"]}\\n```'"
      ]
     },
     "execution_count": 53,
     "metadata": {},
     "output_type": "execute_result"
    }
   ],
   "source": [
    "parser.get_format_instructions()"
   ]
  },
  {
   "cell_type": "code",
   "execution_count": 51,
   "metadata": {},
   "outputs": [],
   "source": [
    "prompt = \"\"\"\n",
    "You are an AI-powered Cold Outreach Assistant for an insurance company specializing in personalized marketing. Your goal is to craft **highly engaging cold emails** and **concise, high-converting cold call scripts** tailored to prospects' industries, prior engagement levels, and potential objections. Additionally, you will provide strategic follow-up advice to further engage the client.\n",
    "\n",
    "---\n",
    "\n",
    "### **Task**  \n",
    "Given the following details, generate a JSON response containing:  \n",
    "\n",
    "1. `recipient_email`: The **email address of the recipient** (as provided in the input).  \n",
    "2. `recipient_phone`: The **phone number of the recipient** (as provided in the input).  \n",
    "3. `subject`: A compelling **email subject line** that grabs attention and encourages the recipient to open the email.  \n",
    "4. `email`: A **personalized cold email** that follows this structure:  \n",
    "   - **[Opening sentence]**: Connect with their industry, a recent trend, or challenge.  \n",
    "   - **[Value proposition]**: How your insurance solution helps companies in their industry.  \n",
    "   - **[Objection handling]**: Address a common concern relevant to their industry.  \n",
    "   - **[CTA]**: Suggest a **quick call, demo, or free consultation**.  \n",
    "\n",
    "5. `call_script`: A **short but effective cold call script** (under 100 words) that:  \n",
    "   - Starts with a **brief introduction**.  \n",
    "   - Highlights a **pain point** relevant to their industry.  \n",
    "   - Presents the **key benefit of the insurance** in a single sentence.  \n",
    "   - Handles a **likely objection** in one sentence.  \n",
    "   - Ends with a **clear CTA** (e.g., booking a call, requesting more info).  \n",
    "\n",
    "6. `advise`: A **follow-up strategy** to keep the client engaged based on their industry and potential objection.  \n",
    "\n",
    "---\n",
    "\n",
    "### **Input**  \n",
    "- **Recipient Email**: {recipient_email}  \n",
    "- **Recipient Phone**: {recipient_phone}  \n",
    "- **Company Name**: {company_name}  \n",
    "- **Industry**: {industry}  \n",
    "- **Engagement Level**: {engagement_level}  \n",
    "- **Potential Objection**: {objection}  \n",
    "- **Insurance Company Name**: {insurance_company_name}  \n",
    "- **Sender Name**: {sender_name}  \n",
    "\n",
    "---\n",
    "\n",
    "###Note: The email is sent to {company_name} so the greeting at the beginning of the email should be attributed to {company_name}\n",
    "\n",
    "---\n",
    "\n",
    "### **Output Format (Strict JSON)**  \n",
    "{{\n",
    "  \"recipient_email\": \"{recipient_email}\",\n",
    "  \"recipient_phone\": \"{recipient_phone}\",\n",
    "  \"subject\": \"[Compelling subject line]\",\n",
    "  \"email\": \"[Generated cold email]\",\n",
    "  \"call_script\": \"[Short, high-impact cold call script]\",\n",
    "  \"advise\": \"[Follow-up strategy and recommendations]\"\n",
    "}}\n",
    "\n",
    "\n",
    "\"\"\"  \n",
    "\n"
   ]
  },
  {
   "cell_type": "code",
   "execution_count": 52,
   "metadata": {},
   "outputs": [],
   "source": [
    "prompt_template = PromptTemplate(\n",
    "    template=prompt,\n",
    "    input_variables=[\"company_name\", \"industry\", \"engagement_level\", \"objection\"],\n",
    "    partial_variables={\"format_instructions\": parser.get_format_instructions()},\n",
    ")"
   ]
  },
  {
   "cell_type": "code",
   "execution_count": 54,
   "metadata": {},
   "outputs": [],
   "source": [
    "first_chain = prompt_template | llm | parser"
   ]
  },
  {
   "cell_type": "code",
   "execution_count": 55,
   "metadata": {},
   "outputs": [
    {
     "data": {
      "text/plain": [
       "PromptTemplate(input_variables=['company_name', 'engagement_level', 'industry', 'insurance_company_name', 'objection', 'recipient_email', 'recipient_phone', 'sender_name'], input_types={}, partial_variables={'format_instructions': 'The output should be formatted as a JSON instance that conforms to the JSON schema below.\\n\\nAs an example, for the schema {\"properties\": {\"foo\": {\"title\": \"Foo\", \"description\": \"a list of strings\", \"type\": \"array\", \"items\": {\"type\": \"string\"}}}, \"required\": [\"foo\"]}\\nthe object {\"foo\": [\"bar\", \"baz\"]} is a well-formatted instance of the schema. The object {\"properties\": {\"foo\": [\"bar\", \"baz\"]}} is not well-formatted.\\n\\nHere is the output schema:\\n```\\n{\"properties\": {\"recipient_email\": {\"description\": \"The **email address of the recipient** (as provided in the input).\", \"title\": \"Recipient Email\", \"type\": \"string\"}, \"recipient_phone\": {\"description\": \"The **phone number of the recipient** (as provided in the input)\", \"title\": \"Recipient Phone\", \"type\": \"string\"}, \"subject\": {\"description\": \"A compelling **email subject line** that grabs attention and encourages the recipient to open the email. \", \"title\": \"Subject\", \"type\": \"string\"}, \"email\": {\"description\": \"A cold email personalized based on the industry, engagement level, and objections.\", \"title\": \"Email\", \"type\": \"string\"}, \"call_script\": {\"description\": \"A structured cold call script for sales representatives to use.\", \"title\": \"Call Script\", \"type\": \"string\"}, \"advise\": {\"description\": \"A strategy to further engage the client based on their industry and previous response.\", \"title\": \"Advise\", \"type\": \"string\"}}, \"required\": [\"recipient_email\", \"recipient_phone\", \"subject\", \"email\", \"call_script\", \"advise\"]}\\n```'}, template='\\nYou are an AI-powered Cold Outreach Assistant for an insurance company specializing in personalized marketing. Your goal is to craft **highly engaging cold emails** and **concise, high-converting cold call scripts** tailored to prospects\\' industries, prior engagement levels, and potential objections. Additionally, you will provide strategic follow-up advice to further engage the client.\\n\\n---\\n\\n### **Task**  \\nGiven the following details, generate a JSON response containing:  \\n\\n1. `recipient_email`: The **email address of the recipient** (as provided in the input).  \\n2. `recipient_phone`: The **phone number of the recipient** (as provided in the input).  \\n3. `subject`: A compelling **email subject line** that grabs attention and encourages the recipient to open the email.  \\n4. `email`: A **personalized cold email** that follows this structure:  \\n   - **[Opening sentence]**: Connect with their industry, a recent trend, or challenge.  \\n   - **[Value proposition]**: How your insurance solution helps companies in their industry.  \\n   - **[Objection handling]**: Address a common concern relevant to their industry.  \\n   - **[CTA]**: Suggest a **quick call, demo, or free consultation**.  \\n\\n5. `call_script`: A **short but effective cold call script** (under 100 words) that:  \\n   - Starts with a **brief introduction**.  \\n   - Highlights a **pain point** relevant to their industry.  \\n   - Presents the **key benefit of the insurance** in a single sentence.  \\n   - Handles a **likely objection** in one sentence.  \\n   - Ends with a **clear CTA** (e.g., booking a call, requesting more info).  \\n\\n6. `advise`: A **follow-up strategy** to keep the client engaged based on their industry and potential objection.  \\n\\n---\\n\\n### **Input**  \\n- **Recipient Email**: {recipient_email}  \\n- **Recipient Phone**: {recipient_phone}  \\n- **Company Name**: {company_name}  \\n- **Industry**: {industry}  \\n- **Engagement Level**: {engagement_level}  \\n- **Potential Objection**: {objection}  \\n- **Insurance Company Name**: {insurance_company_name}  \\n- **Sender Name**: {sender_name}  \\n\\n---\\n\\n###Note: The email is sent to {company_name} so the greeting at the beginning of the email should be attributed to {company_name}\\n\\n---\\n\\n### **Output Format (Strict JSON)**  \\n{{\\n  \"recipient_email\": \"{recipient_email}\",\\n  \"recipient_phone\": \"{recipient_phone}\",\\n  \"subject\": \"[Compelling subject line]\",\\n  \"email\": \"[Generated cold email]\",\\n  \"call_script\": \"[Short, high-impact cold call script]\",\\n  \"advise\": \"[Follow-up strategy and recommendations]\"\\n}}\\n\\n\\n')\n",
       "| ChatTogether(client=<openai.resources.chat.completions.completions.Completions object at 0x7fb9c43993d0>, async_client=<openai.resources.chat.completions.completions.AsyncCompletions object at 0x7fb9bf3e3b00>, model_name='meta-llama/Llama-3-70b-chat-hf', temperature=0.0, model_kwargs={}, max_retries=2, together_api_key=SecretStr('**********'), together_api_base='https://api.together.xyz/v1/')\n",
       "| JsonOutputParser(pydantic_object=<class '__main__.EmailAdvise'>)"
      ]
     },
     "execution_count": 55,
     "metadata": {},
     "output_type": "execute_result"
    }
   ],
   "source": [
    "first_chain"
   ]
  },
  {
   "cell_type": "code",
   "execution_count": null,
   "metadata": {},
   "outputs": [],
   "source": [
    "response = first_chain.invoke({\n",
    "    \"company_name\": \"Moniepoint\",\n",
    "    \"industry\": \"Finance\",\n",
    "    \"engagement_level\": \"low\",\n",
    "    \"objection\": \"Security, We’re already insured, Trust with document issues\",\n",
    "    \"insurance_company_name\": \"DigitalInsure\",\n",
    "    \"sender_name\": \"Paul Obiahu\",\n",
    "    \"recipient_email\": \"dreemer6@yahoo.com\",\n",
    "    \"recipient_phone\": \"+2348067365519\"\n",
    "})"
   ]
  },
  {
   "cell_type": "code",
   "execution_count": 57,
   "metadata": {},
   "outputs": [
    {
     "data": {
      "text/plain": [
       "{'recipient_email': 'paulobiahu2@gmail.com',\n",
       " 'recipient_phone': '+2348101116037',\n",
       " 'subject': \"Protecting Moniepoint's Financial Future with DigitalInsure\",\n",
       " 'email': \"Hi Moniepoint Team,\\n\\nAs a leading player in the finance industry, you understand the importance of mitigating risks and ensuring business continuity. With the increasing threat of cyber attacks and data breaches, it's crucial to have a robust insurance plan in place.\\n\\nAt DigitalInsure, we specialize in providing tailored insurance solutions to finance companies like yours. Our policies are designed to protect your business from unforeseen events, ensuring you can focus on growth and innovation.\\n\\nI understand that security concerns may be top of mind, especially when it comes to document management. Rest assured that our insurance solutions prioritize data protection and confidentiality, giving you peace of mind.\\n\\nWould you be open to a quick call to discuss how DigitalInsure can help safeguard Moniepoint's financial future? I'd be happy to schedule a demo or free consultation at your convenience.\\n\\nBest regards,\\nPaul Obiahu\",\n",
       " 'call_script': \"Hi, this is Paul Obiahu from DigitalInsure. I'm calling because I understand the finance industry is prone to cyber attacks, and I'd like to discuss how our insurance solutions can help protect Moniepoint from these risks. Our policies prioritize data security and confidentiality, addressing concerns around document management. Are you currently satisfied with your insurance coverage? Would you be open to exploring alternative options that better suit your needs? Let's schedule a quick call to discuss further.\",\n",
       " 'advise': \"Given Moniepoint's low engagement level, it's essential to prioritize building trust and establishing a connection. Consider sending a follow-up email highlighting a recent industry trend or news article related to insurance and risk management in finance. This can help keep the conversation going and demonstrate DigitalInsure's expertise. Additionally, be prepared to address concerns around security and document management during the call, and have case studies or testimonials ready to share.\"}"
      ]
     },
     "execution_count": 57,
     "metadata": {},
     "output_type": "execute_result"
    }
   ],
   "source": [
    "response"
   ]
  },
  {
   "cell_type": "code",
   "execution_count": 66,
   "metadata": {},
   "outputs": [],
   "source": [
    "def send_cold_email(generated_inputs):\n",
    "    try:\n",
    "        send_email(\n",
    "            subject=generated_inputs['subject'],\n",
    "            recipient=generated_inputs['recipient_email'],\n",
    "            body=generated_inputs['email'],\n",
    "            sender_email=\"dreemer6.um@gmail.com\",\n",
    "            sender_password=EMAIL_PASSWORD\n",
    "        )\n",
    "        return \"Success\"\n",
    "    except Exception as e:\n",
    "        return \"Failure\""
   ]
  },
  {
   "cell_type": "code",
   "execution_count": 67,
   "metadata": {},
   "outputs": [],
   "source": [
    "def send_cold_call(generated_inputs):\n",
    "    try:\n",
    "        make_phone_call(\n",
    "            recipient_phone=generated_inputs['recipient_phone'],\n",
    "            call_script=generated_inputs['call_script'],\n",
    "            twilio_number=TWILIO_NUMBER,\n",
    "            account_sid=ACCOUNT_SID,\n",
    "            auth_token=AUTH_TOKEN\n",
    "        )\n",
    "        return \"Success\"\n",
    "    except Exception as e:\n",
    "        return \"Failure\""
   ]
  },
  {
   "cell_type": "code",
   "execution_count": 68,
   "metadata": {},
   "outputs": [],
   "source": [
    "\n",
    "\n",
    "def get_advise(generated_inputs):\n",
    "    return generated_inputs['advise']\n",
    "\n"
   ]
  },
  {
   "cell_type": "code",
   "execution_count": 69,
   "metadata": {},
   "outputs": [],
   "source": [
    "cold_email_runnable = RunnableLambda(send_cold_email)\n",
    "cold_call_runnable = RunnableLambda(send_cold_call)\n",
    "get_advise_runnable = RunnableLambda(get_advise)"
   ]
  },
  {
   "cell_type": "code",
   "execution_count": 70,
   "metadata": {},
   "outputs": [],
   "source": [
    "email_and_call_chain = RunnableParallel(\n",
    "    email_status=cold_email_runnable,  \n",
    "    call_status=cold_call_runnable,  \n",
    "    advise_status=get_advise_runnable  \n",
    ")\n",
    "\n",
    "full_chain = first_chain | email_and_call_chain"
   ]
  },
  {
   "cell_type": "code",
   "execution_count": 71,
   "metadata": {},
   "outputs": [
    {
     "name": "stdout",
     "output_type": "stream",
     "text": [
      "Failed to make call: HTTP 400 error: Unable to create record: The number +2348067365519 is unverified. Trial accounts may only make calls to verified numbers.\n",
      "Email sent successfully!\n"
     ]
    }
   ],
   "source": [
    "response = full_chain.invoke({\n",
    "    \"company_name\": \"Moniepoint\",\n",
    "    \"industry\": \"Finance\",\n",
    "    \"engagement_level\": \"high\",\n",
    "    \"objection\": \"Security, We’re already insured, Trust with document issues\",\n",
    "    \"insurance_company_name\": \"DigitalInsure\",\n",
    "    \"sender_name\": \"Paul Obiahu\",\n",
    "    \"recipient_email\": \"dreemer6@yahoo.com\",\n",
    "     \"recipient_phone\": \"+2348067365519\"\n",
    "})"
   ]
  },
  {
   "cell_type": "code",
   "execution_count": 72,
   "metadata": {},
   "outputs": [
    {
     "data": {
      "text/plain": [
       "{'email_status': 'Success',\n",
       " 'call_status': 'Success',\n",
       " 'advise_status': \"Given Moniepoint's high engagement level, I recommend a follow-up email or call within 3-5 days to reiterate the value proposition and address any potential concerns. Since security is a top concern, consider sharing a case study or testimonial from a similar finance company that has benefited from DigitalInsure's insurance solutions. This will help build trust and credibility, increasing the likelihood of conversion.\"}"
      ]
     },
     "execution_count": 72,
     "metadata": {},
     "output_type": "execute_result"
    }
   ],
   "source": [
    "response"
   ]
  },
  {
   "cell_type": "code",
   "execution_count": null,
   "metadata": {},
   "outputs": [],
   "source": []
  },
  {
   "cell_type": "code",
   "execution_count": null,
   "metadata": {},
   "outputs": [],
   "source": []
  },
  {
   "cell_type": "code",
   "execution_count": 123,
   "metadata": {},
   "outputs": [],
   "source": [
    "prompt = \"\"\"\n",
    "You are an AI-powered Cold Outreach Assistant for an insurance company specializing in personalized marketing. Your goal is to craft **highly engaging cold emails** tailored to the input provided. Output only the email content following the provided format. Do not include any extra commentary or explanation.\n",
    "\n",
    "---\n",
    "\n",
    "Input: \n",
    "- **Prospect's Email**: {prospect_email}  \n",
    "- **Prospect's name**: {prospect_name}  \n",
    "- **Prospect's Company Name**: {company_name}  \n",
    "- **Prospect's Title at company**: {prospect_title}  \n",
    "- **Industry**: {industry}  \n",
    "- **Previous Engagement Level**: {engagement_level}  \n",
    "- **Potential Objection**: {objection}  \n",
    "- **Outreach Description**: {outreach_description}  \n",
    "- **Industry Focus**: {industry_focus}  \n",
    "- **Sender's Company Name**: {insurance_company_name}  \n",
    "- **Sender's Name**: {sender_name}  \n",
    "- **Sender's Title at Company**: {sender_title}  \n",
    "\n",
    "---\n",
    "\n",
    "###Note: The email is sent to {prospect_name} whose title at {company_name} is {prospect_title} (if provided). So tailor the email accordingly.\n",
    "\n",
    "### **Output Format (Strict JSON)**\n",
    "{{\n",
    "  \"prospect_email\": \"{prospect_email}\",\n",
    "  \"subject\": \"[Compelling subject line]\",\n",
    "  \"email\": \"[Generated cold email]\",\n",
    "  \"engagement_advice\": \"[Follow-up strategy and recommendations]\"\n",
    "}}\n",
    "\"\"\""
   ]
  },
  {
   "cell_type": "code",
   "execution_count": 124,
   "metadata": {},
   "outputs": [],
   "source": [
    "# Define Industry-Specific Messaging\n",
    "from typing import List\n",
    "\n",
    "\n",
    "def get_industry_focus(industry: str) -> str:\n",
    "    industry = industry.lower()\n",
    "    industry_focus_map = {\n",
    "        \"tech\": \"emphasize innovation and cutting-edge technology solutions.\",\n",
    "        \"finance\": \"highlight security and robust ROI potential.\",\n",
    "        \"healthcare\": \"stress compliance and efficiency.\",\n",
    "    }\n",
    "    return industry_focus_map.get(industry, \"highlight tailored benefits.\")\n"
   ]
  },
  {
   "cell_type": "code",
   "execution_count": 125,
   "metadata": {},
   "outputs": [],
   "source": [
    "from pydantic import EmailStr\n",
    "\n",
    "\n",
    "class EmailResponse(BaseModel):\n",
    "    prospect_email: EmailStr = Field(..., description=\"The email address of the prospect, as provided in the input.\")\n",
    "    subject: str = Field(..., description=\"A compelling email subject line generated by the LLM.\")\n",
    "    email: str = Field(..., description=\"\"\"A **personalized cold email** that follows this structure:  \n",
    "   - **[Opening sentence]**: Connect with their industry, a recent trend, or challenge.  \n",
    "   - **[Value proposition]**: Explain how your insurance solution helps companies in their industry.  \n",
    "   - **[Objection handling]**: Address a common concern relevant to their industry.  \n",
    "   - **[CTA]**: Suggest a **quick call, demo, or free consultation**. \"\"\")\n",
    "    engagement_advice: str = Field(..., description=\"A **follow-up strategy** and recommendations to keep the client engaged based on their industry and potential objections.\")\n",
    "\n",
    "# Define JSON Parser\n",
    "\n",
    "parser = JsonOutputParser(pydantic_object=EmailResponse)\n",
    "\n",
    "prompt_template = PromptTemplate(\n",
    "    template=prompt,\n",
    "    input_variables=[\n",
    "        \"prospect_email\",\n",
    "        \"prospect_name\",\n",
    "        \"company_name\",\n",
    "        \"prospect_title\",\n",
    "        \"industry\",\n",
    "        \"industry_focus\",\n",
    "        \"engagement_level\",\n",
    "        \"objections\",\n",
    "        \"outreach_description\",\n",
    "        \"insurance_company_name\",\n",
    "        \"sender_name\",\n",
    "        \"sender_title\"\n",
    "    ],\n",
    "    partial_variables={\"format_instructions\": parser.get_format_instructions()}\n",
    ")"
   ]
  },
  {
   "cell_type": "code",
   "execution_count": 126,
   "metadata": {},
   "outputs": [
    {
     "data": {
      "text/plain": [
       "PromptTemplate(input_variables=['company_name', 'engagement_level', 'industry', 'industry_focus', 'insurance_company_name', 'objection', 'outreach_description', 'prospect_email', 'prospect_name', 'prospect_title', 'sender_name', 'sender_title'], input_types={}, partial_variables={'format_instructions': 'The output should be formatted as a JSON instance that conforms to the JSON schema below.\\n\\nAs an example, for the schema {\"properties\": {\"foo\": {\"title\": \"Foo\", \"description\": \"a list of strings\", \"type\": \"array\", \"items\": {\"type\": \"string\"}}}, \"required\": [\"foo\"]}\\nthe object {\"foo\": [\"bar\", \"baz\"]} is a well-formatted instance of the schema. The object {\"properties\": {\"foo\": [\"bar\", \"baz\"]}} is not well-formatted.\\n\\nHere is the output schema:\\n```\\n{\"properties\": {\"prospect_email\": {\"description\": \"The email address of the prospect, as provided in the input.\", \"format\": \"email\", \"title\": \"Prospect Email\", \"type\": \"string\"}, \"subject\": {\"description\": \"A compelling email subject line generated by the LLM.\", \"title\": \"Subject\", \"type\": \"string\"}, \"email\": {\"description\": \"A **personalized cold email** that follows this structure:  \\\\n   - **[Opening sentence]**: Connect with their industry, a recent trend, or challenge.  \\\\n   - **[Value proposition]**: Explain how your insurance solution helps companies in their industry.  \\\\n   - **[Objection handling]**: Address a common concern relevant to their industry.  \\\\n   - **[CTA]**: Suggest a **quick call, demo, or free consultation**. \", \"title\": \"Email\", \"type\": \"string\"}, \"engagement_advice\": {\"description\": \"A **follow-up strategy** and recommendations to keep the client engaged based on their industry and potential objections.\", \"title\": \"Engagement Advice\", \"type\": \"string\"}}, \"required\": [\"prospect_email\", \"subject\", \"email\", \"engagement_advice\"]}\\n```'}, template='\\nYou are an AI-powered Cold Outreach Assistant for an insurance company specializing in personalized marketing. Your goal is to craft **highly engaging cold emails** tailored to the input provided. Output only the email content following the provided format. Do not include any extra commentary or explanation.\\n\\n---\\n\\nInput: \\n- **Prospect\\'s Email**: {prospect_email}  \\n- **Prospect\\'s name**: {prospect_name}  \\n- **Prospect\\'s Company Name**: {company_name}  \\n- **Prospect\\'s Title at company**: {prospect_title}  \\n- **Industry**: {industry}  \\n- **Previous Engagement Level**: {engagement_level}  \\n- **Potential Objection**: {objection}  \\n- **Outreach Description**: {outreach_description}  \\n- **Industry Focus**: {industry_focus}  \\n- **Sender\\'s Company Name**: {insurance_company_name}  \\n- **Sender\\'s Name**: {sender_name}  \\n- **Sender\\'s Title at Company**: {sender_title}  \\n\\n---\\n\\n###Note: The email is sent to {prospect_name} whose title at {company_name} is {prospect_title} (if provided). So tailor the email accordingly.\\n\\n### **Output Format (Strict JSON)**\\n{{\\n  \"prospect_email\": \"{prospect_email}\",\\n  \"subject\": \"[Compelling subject line]\",\\n  \"email\": \"[Generated cold email]\",\\n  \"engagement_advice\": \"[Follow-up strategy and recommendations]\"\\n}}\\n')"
      ]
     },
     "execution_count": 126,
     "metadata": {},
     "output_type": "execute_result"
    }
   ],
   "source": [
    "prompt_template"
   ]
  },
  {
   "cell_type": "code",
   "execution_count": 127,
   "metadata": {},
   "outputs": [],
   "source": [
    "from langchain.chat_models import init_chat_model\n",
    "\n",
    "llama3_70b_llm = init_chat_model( \n",
    "    model=\"llama3-70b-8192\", \n",
    "    model_provider=\"groq\",\n",
    "    temperature=0.5,\n",
    ")"
   ]
  },
  {
   "cell_type": "code",
   "execution_count": 128,
   "metadata": {},
   "outputs": [],
   "source": [
    "def generate_email_content(params: dict) -> dict:\n",
    "    # Compute industry focus and add it to parameters.\n",
    "    params[\"industry_focus\"] = get_industry_focus(params[\"industry\"])\n",
    "    # Format objections from a list to a comma-separated string.\n",
    "    # params[\"objections\"] = format_objections(params.get(\"objections\", []))\n",
    "\n",
    "    print(params)\n",
    "\n",
    "    # Create a RunnableSequence\n",
    "    chain = prompt_template | llama3_70b_llm | parser\n",
    "\n",
    "    response = chain.invoke(params)\n",
    "\n",
    "    return response"
   ]
  },
  {
   "cell_type": "code",
   "execution_count": 129,
   "metadata": {},
   "outputs": [
    {
     "name": "stdout",
     "output_type": "stream",
     "text": [
      "{'prospect_email': 'contact@acme.com', 'prospect_name': 'John Doe', 'prospect_phone': '+1234567890', 'company_name': 'Acme Corp', 'prospect_title': 'CEO', 'industry': 'tech', 'engagement_level': 4, 'objection': 'integration complexity', 'outreach_description': 'We offer embedded insurance solutions that reduce risk and drive revenue.', 'insurance_company_name': 'Gamma Insurance Solutions', 'sender_name': 'Alice Johnson', 'sender_title': 'Business Development Manager', 'industry_focus': 'emphasize innovation and cutting-edge technology solutions.'}\n",
      "{'email': 'Hi John,\\n'\n",
      "          '\\n'\n",
      "          \"As the CEO of Acme Corp, you're no stranger to innovation and \"\n",
      "          \"taking bold steps to stay ahead in the tech industry. That's why I \"\n",
      "          'wanted to introduce you to Gamma Insurance Solutions, a company '\n",
      "          'that shares your passion for cutting-edge technology.\\n'\n",
      "          '\\n'\n",
      "          'Our embedded insurance solutions are designed to reduce risk and '\n",
      "          'drive revenue, giving you the confidence to focus on what matters '\n",
      "          \"most - pushing the boundaries of what's possible. We've worked with \"\n",
      "          'numerous tech companies, helping them navigate complex risks and '\n",
      "          'uncover new opportunities.\\n'\n",
      "          '\\n'\n",
      "          'I understand that integration complexity can be a concern, but our '\n",
      "          'solutions are built to seamlessly integrate with your existing '\n",
      "          'systems, ensuring a smooth and efficient experience.\\n'\n",
      "          '\\n'\n",
      "          \"I'd love to discuss how Gamma Insurance Solutions can help Acme \"\n",
      "          'Corp stay ahead of the curve. Would you be open to a quick call to '\n",
      "          'explore further?\\n'\n",
      "          '\\n'\n",
      "          'Best regards,\\n'\n",
      "          'Alice Johnson\\n'\n",
      "          'Business Development Manager\\n'\n",
      "          'Gamma Insurance Solutions',\n",
      " 'engagement_advice': 'Follow up with a phone call in 3-4 days if no response. '\n",
      "                      'Emphasize the value of innovative insurance solutions '\n",
      "                      'and how they can drive revenue for Acme Corp.',\n",
      " 'prospect_email': 'contact@acme.com',\n",
      " 'subject': 'Innovate with Confidence: Cutting-Edge Insurance Solutions for '\n",
      "            'Acme Corp'}\n"
     ]
    }
   ],
   "source": [
    "from pprint import pprint\n",
    "params = {\n",
    "    \"prospect_email\": \"contact@acme.com\",\n",
    "    \"prospect_name\": \"John Doe\",\n",
    "    \"prospect_phone\": \"+1234567890\",\n",
    "    \"company_name\": \"Acme Corp\",\n",
    "    \"prospect_title\": \"CEO\",\n",
    "    \"industry\": \"tech\",\n",
    "    \"engagement_level\": 4,\n",
    "    \"objection\": \"integration complexity\",\n",
    "    \"outreach_description\": \"We offer embedded insurance solutions that reduce risk and drive revenue.\",\n",
    "    \"insurance_company_name\": \"Gamma Insurance Solutions\",\n",
    "    \"sender_name\": \"Alice Johnson\",\n",
    "    \"sender_title\": \"Business Development Manager\"\n",
    "}\n",
    "\n",
    "\n",
    "# The get_industry_focus function is automatically called within generate_email_content.\n",
    "output = generate_email_content(params)\n",
    "pprint(output)\n"
   ]
  },
  {
   "cell_type": "code",
   "execution_count": 130,
   "metadata": {},
   "outputs": [
    {
     "data": {
      "text/plain": [
       "{'prospect_email': 'contact@acme.com',\n",
       " 'subject': 'Innovate with Confidence: Cutting-Edge Insurance Solutions for Acme Corp',\n",
       " 'email': \"Hi John,\\n\\nAs the CEO of Acme Corp, you're no stranger to innovation and taking bold steps to stay ahead in the tech industry. That's why I wanted to introduce you to Gamma Insurance Solutions, a company that shares your passion for cutting-edge technology.\\n\\nOur embedded insurance solutions are designed to reduce risk and drive revenue, giving you the confidence to focus on what matters most - pushing the boundaries of what's possible. We've worked with numerous tech companies, helping them navigate complex risks and uncover new opportunities.\\n\\nI understand that integration complexity can be a concern, but our solutions are built to seamlessly integrate with your existing systems, ensuring a smooth and efficient experience.\\n\\nI'd love to discuss how Gamma Insurance Solutions can help Acme Corp stay ahead of the curve. Would you be open to a quick call to explore further?\\n\\nBest regards,\\nAlice Johnson\\nBusiness Development Manager\\nGamma Insurance Solutions\",\n",
       " 'engagement_advice': 'Follow up with a phone call in 3-4 days if no response. Emphasize the value of innovative insurance solutions and how they can drive revenue for Acme Corp.'}"
      ]
     },
     "execution_count": 130,
     "metadata": {},
     "output_type": "execute_result"
    }
   ],
   "source": [
    "output"
   ]
  },
  {
   "cell_type": "code",
   "execution_count": null,
   "metadata": {},
   "outputs": [],
   "source": [
    "# Download the helper library from https://www.twilio.com/docs/python/install\n",
    "import os\n",
    "from twilio.rest import Client\n",
    "\n",
    "# Find your Account SID and Auth Token at twilio.com/console\n",
    "# and set the environment variables. See http://twil.io/secure\n",
    "account_sid = os.environ[\"TWILIO_ACCOUNT_SID\"]\n",
    "auth_token = os.environ[\"TWILIO_AUTH_TOKEN\"]\n",
    "client = Client(account_sid, auth_token)\n",
    "\n",
    "call = client.calls.create(\n",
    "    twiml=\"<Response><Say>Ahoy, World!</Say></Response>\",\n",
    "    to=\"+14155551212\",\n",
    "    from_=\"+15017122661\",\n",
    ")\n",
    "\n",
    "print(call.sid)"
   ]
  },
  {
   "cell_type": "code",
   "execution_count": 8,
   "metadata": {},
   "outputs": [
    {
     "data": {
      "text/html": [
       "<div>\n",
       "<style scoped>\n",
       "    .dataframe tbody tr th:only-of-type {\n",
       "        vertical-align: middle;\n",
       "    }\n",
       "\n",
       "    .dataframe tbody tr th {\n",
       "        vertical-align: top;\n",
       "    }\n",
       "\n",
       "    .dataframe thead th {\n",
       "        text-align: right;\n",
       "    }\n",
       "</style>\n",
       "<table border=\"1\" class=\"dataframe\">\n",
       "  <thead>\n",
       "    <tr style=\"text-align: right;\">\n",
       "      <th></th>\n",
       "      <th>prospect_email</th>\n",
       "      <th>prospect_name</th>\n",
       "      <th>prospect_phone</th>\n",
       "      <th>company_name</th>\n",
       "      <th>prospect_title</th>\n",
       "      <th>industry</th>\n",
       "      <th>engagement_level</th>\n",
       "      <th>objections</th>\n",
       "      <th>outreach_description</th>\n",
       "      <th>insurance_company_name</th>\n",
       "      <th>sender_name</th>\n",
       "      <th>sender_title</th>\n",
       "      <th>outreach_type</th>\n",
       "      <th>subject</th>\n",
       "      <th>email</th>\n",
       "      <th>engagement_advice</th>\n",
       "    </tr>\n",
       "  </thead>\n",
       "  <tbody>\n",
       "    <tr>\n",
       "      <th>0</th>\n",
       "      <td>dreemer6@yahoo.com</td>\n",
       "      <td>John Doe</td>\n",
       "      <td>2348067365519</td>\n",
       "      <td>Acme Corp</td>\n",
       "      <td>CTO</td>\n",
       "      <td>Tech</td>\n",
       "      <td>High</td>\n",
       "      <td>Pricing, Competitor</td>\n",
       "      <td>Introducing new AI-driven insurance</td>\n",
       "      <td>SecureIns</td>\n",
       "      <td>Jane Smith</td>\n",
       "      <td>Sales Manager</td>\n",
       "      <td>email</td>\n",
       "      <td>Revolutionize Acme Corp's Risk Management with...</td>\n",
       "      <td>Hi John,\\n\\nAs the CTO of Acme Corp, you're no...</td>\n",
       "      <td>Follow up with a phone call in 3-4 days to dis...</td>\n",
       "    </tr>\n",
       "    <tr>\n",
       "      <th>1</th>\n",
       "      <td>dreemer6@yahoo.com</td>\n",
       "      <td>Alice Brown</td>\n",
       "      <td>2348067365519</td>\n",
       "      <td>Global Fin</td>\n",
       "      <td>CEO</td>\n",
       "      <td>Finance</td>\n",
       "      <td>Medium</td>\n",
       "      <td>Trust Issues</td>\n",
       "      <td>Explaining regulatory compliance benefits</td>\n",
       "      <td>SecureIns</td>\n",
       "      <td>Jane Smith</td>\n",
       "      <td>Sales Manager</td>\n",
       "      <td>call</td>\n",
       "      <td>Protecting Global Fin's Future: Regulatory Com...</td>\n",
       "      <td>Dear Alice Brown,\\n\\nAs the CEO of Global Fin,...</td>\n",
       "      <td>Follow up with a phone call in 3-4 days if no ...</td>\n",
       "    </tr>\n",
       "    <tr>\n",
       "      <th>2</th>\n",
       "      <td>dreemer6@yahoo.com</td>\n",
       "      <td>Bob Williams</td>\n",
       "      <td>2348067365519</td>\n",
       "      <td>HealthTech Inc</td>\n",
       "      <td>CFO</td>\n",
       "      <td>Healthcare</td>\n",
       "      <td>Low</td>\n",
       "      <td>Budget Constraints</td>\n",
       "      <td>Highlighting cost-saving insurance</td>\n",
       "      <td>SecureIns</td>\n",
       "      <td>Jane Smith</td>\n",
       "      <td>Sales Manager</td>\n",
       "      <td>email</td>\n",
       "      <td>Compliance-Focused Insurance Solutions for Hea...</td>\n",
       "      <td>Hi Bob,\\n\\nAs the CFO of HealthTech Inc, you u...</td>\n",
       "      <td>If Bob doesn't respond, consider sending a fol...</td>\n",
       "    </tr>\n",
       "    <tr>\n",
       "      <th>3</th>\n",
       "      <td>dreemer6@yahoo.com</td>\n",
       "      <td>Susan Clark</td>\n",
       "      <td>2348067365519</td>\n",
       "      <td>BuildIt Ltd</td>\n",
       "      <td>Operations Manager</td>\n",
       "      <td>Construction</td>\n",
       "      <td>High</td>\n",
       "      <td>Past Bad Experience</td>\n",
       "      <td>Demonstrating risk coverage policies</td>\n",
       "      <td>SecureIns</td>\n",
       "      <td>Jane Smith</td>\n",
       "      <td>Sales Manager</td>\n",
       "      <td>call</td>\n",
       "      <td>Protect Your Construction Business from Unfore...</td>\n",
       "      <td>Hi Susan,\\n\\nAs an Operations Manager at Build...</td>\n",
       "      <td>Follow up with a phone call in 3-4 days if no ...</td>\n",
       "    </tr>\n",
       "    <tr>\n",
       "      <th>4</th>\n",
       "      <td>dreemer6@yahoo.com</td>\n",
       "      <td>Michael Lee</td>\n",
       "      <td>2348067365519</td>\n",
       "      <td>AutoDrive</td>\n",
       "      <td>Head of Logistics</td>\n",
       "      <td>Automotive</td>\n",
       "      <td>Medium</td>\n",
       "      <td>Too Expensive</td>\n",
       "      <td>Discussing flexible payment plans</td>\n",
       "      <td>SecureIns</td>\n",
       "      <td>Jane Smith</td>\n",
       "      <td>Sales Manager</td>\n",
       "      <td>email</td>\n",
       "      <td>Streamline Your Logistics with SecureIns</td>\n",
       "      <td>Hi Michael,\\n\\nAs the Head of Logistics at Aut...</td>\n",
       "      <td>Follow up with a phone call in 3-4 days if no ...</td>\n",
       "    </tr>\n",
       "  </tbody>\n",
       "</table>\n",
       "</div>"
      ],
      "text/plain": [
       "       prospect_email prospect_name  prospect_phone    company_name  \\\n",
       "0  dreemer6@yahoo.com      John Doe   2348067365519       Acme Corp   \n",
       "1  dreemer6@yahoo.com   Alice Brown   2348067365519      Global Fin   \n",
       "2  dreemer6@yahoo.com  Bob Williams   2348067365519  HealthTech Inc   \n",
       "3  dreemer6@yahoo.com   Susan Clark   2348067365519     BuildIt Ltd   \n",
       "4  dreemer6@yahoo.com   Michael Lee   2348067365519       AutoDrive   \n",
       "\n",
       "       prospect_title      industry engagement_level           objections  \\\n",
       "0                 CTO          Tech             High  Pricing, Competitor   \n",
       "1                 CEO       Finance           Medium         Trust Issues   \n",
       "2                 CFO    Healthcare              Low   Budget Constraints   \n",
       "3  Operations Manager  Construction             High  Past Bad Experience   \n",
       "4   Head of Logistics    Automotive           Medium        Too Expensive   \n",
       "\n",
       "                        outreach_description insurance_company_name  \\\n",
       "0        Introducing new AI-driven insurance              SecureIns   \n",
       "1  Explaining regulatory compliance benefits              SecureIns   \n",
       "2         Highlighting cost-saving insurance              SecureIns   \n",
       "3       Demonstrating risk coverage policies              SecureIns   \n",
       "4          Discussing flexible payment plans              SecureIns   \n",
       "\n",
       "  sender_name   sender_title outreach_type  \\\n",
       "0  Jane Smith  Sales Manager         email   \n",
       "1  Jane Smith  Sales Manager          call   \n",
       "2  Jane Smith  Sales Manager         email   \n",
       "3  Jane Smith  Sales Manager          call   \n",
       "4  Jane Smith  Sales Manager         email   \n",
       "\n",
       "                                             subject  \\\n",
       "0  Revolutionize Acme Corp's Risk Management with...   \n",
       "1  Protecting Global Fin's Future: Regulatory Com...   \n",
       "2  Compliance-Focused Insurance Solutions for Hea...   \n",
       "3  Protect Your Construction Business from Unfore...   \n",
       "4           Streamline Your Logistics with SecureIns   \n",
       "\n",
       "                                               email  \\\n",
       "0  Hi John,\\n\\nAs the CTO of Acme Corp, you're no...   \n",
       "1  Dear Alice Brown,\\n\\nAs the CEO of Global Fin,...   \n",
       "2  Hi Bob,\\n\\nAs the CFO of HealthTech Inc, you u...   \n",
       "3  Hi Susan,\\n\\nAs an Operations Manager at Build...   \n",
       "4  Hi Michael,\\n\\nAs the Head of Logistics at Aut...   \n",
       "\n",
       "                                   engagement_advice  \n",
       "0  Follow up with a phone call in 3-4 days to dis...  \n",
       "1  Follow up with a phone call in 3-4 days if no ...  \n",
       "2  If Bob doesn't respond, consider sending a fol...  \n",
       "3  Follow up with a phone call in 3-4 days if no ...  \n",
       "4  Follow up with a phone call in 3-4 days if no ...  "
      ]
     },
     "execution_count": 8,
     "metadata": {},
     "output_type": "execute_result"
    }
   ],
   "source": [
    "df = pd.read_csv(\"/home/uchemadu/gamma-cold-chain/processed_outreach_results.csv\")\n",
    "df"
   ]
  },
  {
   "cell_type": "code",
   "execution_count": 9,
   "metadata": {},
   "outputs": [
    {
     "data": {
      "text/html": [
       "<div>\n",
       "<style scoped>\n",
       "    .dataframe tbody tr th:only-of-type {\n",
       "        vertical-align: middle;\n",
       "    }\n",
       "\n",
       "    .dataframe tbody tr th {\n",
       "        vertical-align: top;\n",
       "    }\n",
       "\n",
       "    .dataframe thead th {\n",
       "        text-align: right;\n",
       "    }\n",
       "</style>\n",
       "<table border=\"1\" class=\"dataframe\">\n",
       "  <thead>\n",
       "    <tr style=\"text-align: right;\">\n",
       "      <th></th>\n",
       "      <th>prospect_email</th>\n",
       "      <th>prospect_name</th>\n",
       "      <th>prospect_phone</th>\n",
       "      <th>company_name</th>\n",
       "      <th>prospect_title</th>\n",
       "      <th>industry</th>\n",
       "      <th>engagement_level</th>\n",
       "      <th>objections</th>\n",
       "      <th>outreach_description</th>\n",
       "      <th>insurance_company_name</th>\n",
       "      <th>sender_name</th>\n",
       "      <th>sender_title</th>\n",
       "      <th>outreach_type</th>\n",
       "    </tr>\n",
       "  </thead>\n",
       "  <tbody>\n",
       "    <tr>\n",
       "      <th>0</th>\n",
       "      <td>dreemer6@yahoo.com</td>\n",
       "      <td>John Doe</td>\n",
       "      <td>2348067365519</td>\n",
       "      <td>Acme Corp</td>\n",
       "      <td>CTO</td>\n",
       "      <td>Tech</td>\n",
       "      <td>High</td>\n",
       "      <td>['Pricing', ' Competitor']</td>\n",
       "      <td>Introducing new AI-driven insurance</td>\n",
       "      <td>SecureIns</td>\n",
       "      <td>Jane Smith</td>\n",
       "      <td>Sales Manager</td>\n",
       "      <td>email</td>\n",
       "    </tr>\n",
       "    <tr>\n",
       "      <th>1</th>\n",
       "      <td>dreemer6@yahoo.com</td>\n",
       "      <td>Alice Brown</td>\n",
       "      <td>2348067365519</td>\n",
       "      <td>Global Fin</td>\n",
       "      <td>CEO</td>\n",
       "      <td>Finance</td>\n",
       "      <td>Medium</td>\n",
       "      <td>['Trust Issues']</td>\n",
       "      <td>Explaining regulatory compliance benefits</td>\n",
       "      <td>SecureIns</td>\n",
       "      <td>Jane Smith</td>\n",
       "      <td>Sales Manager</td>\n",
       "      <td>call</td>\n",
       "    </tr>\n",
       "    <tr>\n",
       "      <th>2</th>\n",
       "      <td>dreemer6@yahoo.com</td>\n",
       "      <td>Bob Williams</td>\n",
       "      <td>2348067365519</td>\n",
       "      <td>HealthTech Inc</td>\n",
       "      <td>CFO</td>\n",
       "      <td>Healthcare</td>\n",
       "      <td>Low</td>\n",
       "      <td>['Budget Constraints']</td>\n",
       "      <td>Highlighting cost-saving insurance</td>\n",
       "      <td>SecureIns</td>\n",
       "      <td>Jane Smith</td>\n",
       "      <td>Sales Manager</td>\n",
       "      <td>email</td>\n",
       "    </tr>\n",
       "    <tr>\n",
       "      <th>3</th>\n",
       "      <td>dreemer6@yahoo.com</td>\n",
       "      <td>Susan Clark</td>\n",
       "      <td>2348067365519</td>\n",
       "      <td>BuildIt Ltd</td>\n",
       "      <td>Operations Manager</td>\n",
       "      <td>Construction</td>\n",
       "      <td>High</td>\n",
       "      <td>['Past Bad Experience']</td>\n",
       "      <td>Demonstrating risk coverage policies</td>\n",
       "      <td>SecureIns</td>\n",
       "      <td>Jane Smith</td>\n",
       "      <td>Sales Manager</td>\n",
       "      <td>call</td>\n",
       "    </tr>\n",
       "    <tr>\n",
       "      <th>4</th>\n",
       "      <td>dreemer6@yahoo.com</td>\n",
       "      <td>Michael Lee</td>\n",
       "      <td>2348067365519</td>\n",
       "      <td>AutoDrive</td>\n",
       "      <td>Head of Logistics</td>\n",
       "      <td>Automotive</td>\n",
       "      <td>Medium</td>\n",
       "      <td>['Too Expensive']</td>\n",
       "      <td>Discussing flexible payment plans</td>\n",
       "      <td>SecureIns</td>\n",
       "      <td>Jane Smith</td>\n",
       "      <td>Sales Manager</td>\n",
       "      <td>email</td>\n",
       "    </tr>\n",
       "  </tbody>\n",
       "</table>\n",
       "</div>"
      ],
      "text/plain": [
       "       prospect_email prospect_name  prospect_phone    company_name  \\\n",
       "0  dreemer6@yahoo.com      John Doe   2348067365519       Acme Corp   \n",
       "1  dreemer6@yahoo.com   Alice Brown   2348067365519      Global Fin   \n",
       "2  dreemer6@yahoo.com  Bob Williams   2348067365519  HealthTech Inc   \n",
       "3  dreemer6@yahoo.com   Susan Clark   2348067365519     BuildIt Ltd   \n",
       "4  dreemer6@yahoo.com   Michael Lee   2348067365519       AutoDrive   \n",
       "\n",
       "       prospect_title      industry engagement_level  \\\n",
       "0                 CTO          Tech             High   \n",
       "1                 CEO       Finance           Medium   \n",
       "2                 CFO    Healthcare              Low   \n",
       "3  Operations Manager  Construction             High   \n",
       "4   Head of Logistics    Automotive           Medium   \n",
       "\n",
       "                   objections                       outreach_description  \\\n",
       "0  ['Pricing', ' Competitor']        Introducing new AI-driven insurance   \n",
       "1            ['Trust Issues']  Explaining regulatory compliance benefits   \n",
       "2      ['Budget Constraints']         Highlighting cost-saving insurance   \n",
       "3     ['Past Bad Experience']       Demonstrating risk coverage policies   \n",
       "4           ['Too Expensive']          Discussing flexible payment plans   \n",
       "\n",
       "  insurance_company_name sender_name   sender_title outreach_type  \n",
       "0              SecureIns  Jane Smith  Sales Manager         email  \n",
       "1              SecureIns  Jane Smith  Sales Manager          call  \n",
       "2              SecureIns  Jane Smith  Sales Manager         email  \n",
       "3              SecureIns  Jane Smith  Sales Manager          call  \n",
       "4              SecureIns  Jane Smith  Sales Manager         email  "
      ]
     },
     "execution_count": 9,
     "metadata": {},
     "output_type": "execute_result"
    }
   ],
   "source": [
    "df1 = pd.read_csv(\"/home/uchemadu/gamma-cold-chain/uploads/processed_outreach_results.csv\")\n",
    "df1"
   ]
  },
  {
   "cell_type": "code",
   "execution_count": null,
   "metadata": {},
   "outputs": [],
   "source": []
  }
 ],
 "metadata": {
  "kernelspec": {
   "display_name": ".venv",
   "language": "python",
   "name": "python3"
  },
  "language_info": {
   "codemirror_mode": {
    "name": "ipython",
    "version": 3
   },
   "file_extension": ".py",
   "mimetype": "text/x-python",
   "name": "python",
   "nbconvert_exporter": "python",
   "pygments_lexer": "ipython3",
   "version": "3.12.3"
  }
 },
 "nbformat": 4,
 "nbformat_minor": 2
}
